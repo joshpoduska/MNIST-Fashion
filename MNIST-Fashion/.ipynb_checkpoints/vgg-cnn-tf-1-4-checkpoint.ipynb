{
 "cells": [
  {
   "cell_type": "markdown",
   "metadata": {},
   "source": [
    "## Benchmark Using Fashion MNIST\n",
    "\n",
    "#### <a href=\"https://github.com/zalandoresearch/fashion-mnist\" target=\"_blank\">Fashion MNIST</a> is the popular replacement for the handwritten digit MNIST dataset. It offers more of an accuracy challenge. Each image is an article of clothing and the goal is to correctly classify the images.\n",
    "\n",
    "#### Most first-attempt networks on MNIST get around 90% accuracy and might only take a few minutes to train. I wanted to find a network that would push the envelope a bit with better accuracy but especially with the time to train. I did some digging and came across a post by <a href=\"http://danialk.github.io/blog/2017/09/29/range-of-convolutional-neural-networks-on-fashion-mnist-dataset/\" target=\"_blank\">Danial Khosraivy</a> where he took inspiration from the <a href=\"https://www.quora.com/What-is-the-VGG-neural-network\" target=\"_blank\">VGG CNN</a> and created a VGG-like CNN with batch normalization and <a href=\"https://medium.com/nanonets/how-to-use-deep-learning-when-you-have-limited-data-part-2-data-augmentation-c26971dc8ced\" target=\"_blank\">data augmentation</a> on the Fashion MNIST dataset. This network seemed to get better than usual accuracy and was deeper and more complicated, especially with data augmentation, so it looked like a good candidate for my benchmark. I made the following modifications to the original code.\n",
    "* #### code to pass in run parameter from Domino\n",
    "* #### a timer to keep track of how long it takes to build the model\n",
    "* #### a confusion matrix to see where improvements in accuracy are to be had\n",
    "* #### export of a JSON file containing accuracy and time so Domino runs can be easily compared from the UI\n",
    "* #### minor code changes to make it work on TF 1.4.1 for the CUDA 8 / P2 test\n",
    " \n",
    "#### In order to provide a comparison to CUDA 9 on P3 instances, I tested CUDA 8 on P3 and P2 instances. The network I used splits the original training data into 80% training and 20% validation to check for overfitting on the training data. The model is trained for 10 epochs at a learning rate of 0.001 and then another 10 epochs at 0.0001. After those initial 20 epochs, data augmentation is added which generates new training samples by rotating, shifting, and zooming the original training samples. It is then trained for another round of epochs on this new data. This training on augmented data is the longest part of the benchmark. I wanted to test the effect of data augmentation on accuracy and performance so I made the number of epochs trained under data augmentation a user provided parameter. My test covers no augmentation, 25 augmented epochs, and 50 augmented epochs for each CUDA/instance combination. \n",
    "\n",
    "#### Use vgg-cnn.py to run benchmarks for P2 C9 and P3 C9.\n",
    "#### Use vgg-cnn-tf-1-4.py to run benchmarks for P2 C8.\n",
    "#### vgg-cnn.ipynb and vgg-cnn-tf-1-4.ipynb can be used for interactive live runs of the code."
   ]
  },
  {
   "cell_type": "markdown",
   "metadata": {},
   "source": [
    "# Required Libaries"
   ]
  },
  {
   "cell_type": "code",
   "execution_count": 1,
   "metadata": {},
   "outputs": [
    {
     "name": "stderr",
     "output_type": "stream",
     "text": [
      "Using TensorFlow backend.\n"
     ]
    }
   ],
   "source": [
    "import tensorflow as tf\n",
    "from tensorflow import keras\n",
    "from keras.datasets import mnist\n",
    "from keras.models import Sequential\n",
    "from keras.layers import Dense, Dropout, Flatten, Lambda\n",
    "from keras.layers import Conv2D, MaxPooling2D, MaxPool2D, BatchNormalization\n",
    "from keras.optimizers import Adam\n",
    "import matplotlib.pyplot as plt\n",
    "import matplotlib.image as mpimg\n",
    "from keras.preprocessing.image import ImageDataGenerator\n",
    "import numpy as np\n",
    "import pandas as pd\n",
    "np.random.seed(12345)\n",
    "%matplotlib inline"
   ]
  },
  {
   "cell_type": "code",
   "execution_count": 2,
   "metadata": {},
   "outputs": [
    {
     "data": {
      "text/plain": [
       "'1.4.1'"
      ]
     },
     "execution_count": 2,
     "metadata": {},
     "output_type": "execute_result"
    }
   ],
   "source": [
    "tf.__version__"
   ]
  },
  {
   "cell_type": "code",
   "execution_count": 3,
   "metadata": {},
   "outputs": [
    {
     "name": "stdout",
     "output_type": "stream",
     "text": [
      "NAME=\"Ubuntu\"\r\n",
      "VERSION=\"14.04.5 LTS, Trusty Tahr\"\r\n",
      "ID=ubuntu\r\n",
      "ID_LIKE=debian\r\n",
      "PRETTY_NAME=\"Ubuntu 14.04.5 LTS\"\r\n",
      "VERSION_ID=\"14.04\"\r\n",
      "HOME_URL=\"http://www.ubuntu.com/\"\r\n",
      "SUPPORT_URL=\"http://help.ubuntu.com/\"\r\n",
      "BUG_REPORT_URL=\"http://bugs.launchpad.net/ubuntu/\"\r\n"
     ]
    }
   ],
   "source": [
    "# os\n",
    "!cat /etc/os-release"
   ]
  },
  {
   "cell_type": "code",
   "execution_count": 4,
   "metadata": {},
   "outputs": [
    {
     "name": "stdout",
     "output_type": "stream",
     "text": [
      "nvcc: NVIDIA (R) Cuda compiler driver\r\n",
      "Copyright (c) 2005-2016 NVIDIA Corporation\r\n",
      "Built on Tue_Jan_10_13:22:03_CST_2017\r\n",
      "Cuda compilation tools, release 8.0, V8.0.61\r\n"
     ]
    }
   ],
   "source": [
    "# cuda\n",
    "!nvcc --version"
   ]
  },
  {
   "cell_type": "code",
   "execution_count": 5,
   "metadata": {},
   "outputs": [
    {
     "name": "stdout",
     "output_type": "stream",
     "text": [
      "\n",
      "nvidia-settings:  version 396.44  (root@eris-linux-build000)  Wed Jul 11\n",
      "20:02:06 PDT 2018\n",
      "  The NVIDIA X Server Settings tool.\n",
      "\n",
      "  This program is used to configure the NVIDIA Linux graphics driver.\n",
      "  For more detail, please see the nvidia-settings(1) man page.\n",
      "\n",
      "nvidia-384 - NVIDIA binary driver - version 384.111\n"
     ]
    }
   ],
   "source": [
    "# nvidia version and driver\n",
    "!nvidia-settings --version\n",
    "!apt-cache search nvidia | grep -P '^nvidia-[0-9]+\\s'"
   ]
  },
  {
   "cell_type": "code",
   "execution_count": 6,
   "metadata": {},
   "outputs": [
    {
     "name": "stdout",
     "output_type": "stream",
     "text": [
      "Wed Aug 29 22:43:26 2018       \r\n",
      "+-----------------------------------------------------------------------------+\r\n",
      "| NVIDIA-SMI 384.111                Driver Version: 384.111                   |\r\n",
      "|-------------------------------+----------------------+----------------------+\r\n",
      "| GPU  Name        Persistence-M| Bus-Id        Disp.A | Volatile Uncorr. ECC |\r\n",
      "| Fan  Temp  Perf  Pwr:Usage/Cap|         Memory-Usage | GPU-Util  Compute M. |\r\n",
      "|===============================+======================+======================|\r\n",
      "|   0  GRID K520           Off  | 00000000:00:03.0 Off |                  N/A |\r\n",
      "| N/A   35C    P0    36W / 125W |      0MiB /  4036MiB |      0%      Default |\r\n",
      "+-------------------------------+----------------------+----------------------+\r\n",
      "                                                                               \r\n",
      "+-----------------------------------------------------------------------------+\r\n",
      "| Processes:                                                       GPU Memory |\r\n",
      "|  GPU       PID   Type   Process name                             Usage      |\r\n",
      "|=============================================================================|\r\n",
      "|  No running processes found                                                 |\r\n",
      "+-----------------------------------------------------------------------------+\r\n"
     ]
    }
   ],
   "source": [
    "# this returns output if the driver works on the hardware tier\n",
    "!nvidia-smi"
   ]
  },
  {
   "cell_type": "code",
   "execution_count": 7,
   "metadata": {},
   "outputs": [
    {
     "name": "stdout",
     "output_type": "stream",
     "text": [
      "[name: \"/device:CPU:0\"\n",
      "device_type: \"CPU\"\n",
      "memory_limit: 268435456\n",
      "locality {\n",
      "}\n",
      "incarnation: 10008209493504352031\n",
      ", name: \"/device:GPU:0\"\n",
      "device_type: \"GPU\"\n",
      "memory_limit: 3868721152\n",
      "locality {\n",
      "  bus_id: 1\n",
      "}\n",
      "incarnation: 2168300146105728293\n",
      "physical_device_desc: \"device: 0, name: GRID K520, pci bus id: 0000:00:03.0, compute capability: 3.0\"\n",
      "]\n"
     ]
    }
   ],
   "source": [
    "# this will show GPU details if the GPU is lined up with the libraries and drivers\n",
    "# otherwise just CPU details will show and your code will only run on the CPU\n",
    "from tensorflow.python.client import device_lib\n",
    "print(device_lib.list_local_devices())"
   ]
  },
  {
   "cell_type": "markdown",
   "metadata": {},
   "source": [
    "# Download and Load Fashion-MNIST"
   ]
  },
  {
   "cell_type": "code",
   "execution_count": 8,
   "metadata": {},
   "outputs": [
    {
     "name": "stdout",
     "output_type": "stream",
     "text": [
      "Downloading data from https://raw.githubusercontent.com/zalandoresearch/fashion-mnist/master/data/fashion/train-images-idx3-ubyte.gz\n",
      "21889024/26421880 [=======================>......] - ETA: 0sDownloading data from https://raw.githubusercontent.com/zalandoresearch/fashion-mnist/master/data/fashion/train-labels-idx1-ubyte.gz\n",
      "16384/29515 [===============>..............] - ETA: 0sDownloading data from https://raw.githubusercontent.com/zalandoresearch/fashion-mnist/master/data/fashion/t10k-images-idx3-ubyte.gz\n",
      "2162688/4422102 [=============>................] - ETA: 0sDownloading data from https://raw.githubusercontent.com/zalandoresearch/fashion-mnist/master/data/fashion/t10k-labels-idx1-ubyte.gz\n",
      "10296/5148 [============================================================] - 0s\n"
     ]
    }
   ],
   "source": [
    "# get the data\n",
    "train_images_path = keras.utils.get_file('train-images-idx3-ubyte.gz', 'https://raw.githubusercontent.com/zalandoresearch/fashion-mnist/master/data/fashion/train-images-idx3-ubyte.gz')\n",
    "train_labels_path = keras.utils.get_file('train-labels-idx1-ubyte.gz', 'https://raw.githubusercontent.com/zalandoresearch/fashion-mnist/master/data/fashion/train-labels-idx1-ubyte.gz')\n",
    "test_images_path = keras.utils.get_file('t10k-images-idx3-ubyte.gz', 'https://raw.githubusercontent.com/zalandoresearch/fashion-mnist/master/data/fashion/t10k-images-idx3-ubyte.gz')\n",
    "test_labels_path = keras.utils.get_file('t10k-labels-idx1-ubyte.gz', 'https://raw.githubusercontent.com/zalandoresearch/fashion-mnist/master/data/fashion/t10k-labels-idx1-ubyte.gz')"
   ]
  },
  {
   "cell_type": "code",
   "execution_count": 9,
   "metadata": {},
   "outputs": [],
   "source": [
    "# function to do initial transformation of data\n",
    "def load_mnist(images_path, labels_path):\n",
    "    import os\n",
    "    import gzip\n",
    "    import numpy as np\n",
    "\n",
    "    with gzip.open(labels_path, 'rb') as lbpath:\n",
    "        labels = np.frombuffer(lbpath.read(), dtype=np.uint8,\n",
    "                               offset=8)\n",
    "\n",
    "    with gzip.open(images_path, 'rb') as imgpath:\n",
    "        images = np.frombuffer(imgpath.read(), dtype=np.uint8,\n",
    "                               offset=16).reshape(len(labels), 784)\n",
    "\n",
    "    return images, labels"
   ]
  },
  {
   "cell_type": "code",
   "execution_count": 10,
   "metadata": {},
   "outputs": [],
   "source": [
    "# call the load function and reshape the data for training and graphing\n",
    "X_train_orig, y_train_orig = load_mnist(train_images_path, train_labels_path)\n",
    "X_train_graph = X_train_orig.reshape([-1, 28, 28])\n",
    "X_test, y_test = load_mnist(test_images_path, test_labels_path)\n",
    "X_train_orig = X_train_orig.astype('float32')\n",
    "X_test = X_test.astype('float32')\n",
    "X_train_orig /= 255\n",
    "X_test /= 255"
   ]
  },
  {
   "cell_type": "code",
   "execution_count": 11,
   "metadata": {},
   "outputs": [],
   "source": [
    "# 80/20 split\n",
    "from sklearn.model_selection import train_test_split\n",
    "X_train, X_val, y_train, y_val = train_test_split(X_train_orig, y_train_orig, test_size=0.2, random_state=12345)"
   ]
  },
  {
   "cell_type": "code",
   "execution_count": 12,
   "metadata": {},
   "outputs": [
    {
     "name": "stdout",
     "output_type": "stream",
     "text": [
      "(60000, 784)\n",
      "(60000,)\n",
      "(10000, 784)\n",
      "(10000,)\n"
     ]
    }
   ],
   "source": [
    "# check out the shapes\n",
    "print(X_train_orig.shape)\n",
    "print(y_train_orig.shape)\n",
    "print(X_test.shape)\n",
    "print(y_test.shape)"
   ]
  },
  {
   "cell_type": "code",
   "execution_count": 13,
   "metadata": {},
   "outputs": [
    {
     "name": "stdout",
     "output_type": "stream",
     "text": [
      "(48000, 784)\n",
      "(48000,)\n",
      "(12000, 784)\n",
      "(12000,)\n"
     ]
    }
   ],
   "source": [
    "# check out the shapes\n",
    "print(X_train.shape)\n",
    "print(y_train.shape)\n",
    "print(X_val.shape)\n",
    "print(y_val.shape)"
   ]
  },
  {
   "cell_type": "code",
   "execution_count": 14,
   "metadata": {},
   "outputs": [],
   "source": [
    "# set class names\n",
    "class_names = ['T-shirt/top', 'Trouser', 'Pullover', 'Dress', 'Coat', \n",
    "               'Sandal', 'Shirt', 'Sneaker', 'Bag', 'Ankle boot']"
   ]
  },
  {
   "cell_type": "code",
   "execution_count": 15,
   "metadata": {},
   "outputs": [
    {
     "data": {
      "image/png": "[encoded data removed]",
      "text/plain": [
       "<Figure size 720x720 with 10 Axes>"
      ]
     },
     "metadata": {},
     "output_type": "display_data"
    }
   ],
   "source": [
    "# 10 examples images and labels\n",
    "plt.figure(figsize=(10,10))\n",
    "for i in range(10):\n",
    "    plt.subplot(5,5,i+1)\n",
    "    plt.xticks([])\n",
    "    plt.yticks([])\n",
    "    plt.grid(False)\n",
    "    plt.imshow(X_train_graph[i], cmap=plt.cm.binary)\n",
    "    plt.xlabel(class_names[y_train[i]])"
   ]
  },
  {
   "cell_type": "markdown",
   "metadata": {},
   "source": [
    "### Data Augmentation"
   ]
  },
  {
   "cell_type": "code",
   "execution_count": 16,
   "metadata": {},
   "outputs": [],
   "source": [
    "# set batch size\n",
    "batch_size = 512"
   ]
  },
  {
   "cell_type": "code",
   "execution_count": 17,
   "metadata": {},
   "outputs": [],
   "source": [
    "# final reshaping\n",
    "img_rows = 28\n",
    "img_cols = 28\n",
    "input_shape = (img_rows, img_cols, 1)\n",
    "X_train = X_train.reshape(X_train.shape[0], img_rows, img_cols, 1)\n",
    "X_test = X_test.reshape(X_test.shape[0], img_rows, img_cols, 1)\n",
    "X_val = X_val.reshape(X_val.shape[0], img_rows, img_cols, 1)"
   ]
  },
  {
   "cell_type": "code",
   "execution_count": 18,
   "metadata": {},
   "outputs": [],
   "source": [
    "# data augmentation details\n",
    "gen = ImageDataGenerator(rotation_range=8, width_shift_range=0.08, shear_range=0.3,\n",
    "                               height_shift_range=0.08, zoom_range=0.08)\n",
    "batches = gen.flow(X_train, y_train, batch_size=batch_size)\n",
    "val_batches = gen.flow(X_val, y_val, batch_size=batch_size)"
   ]
  },
  {
   "cell_type": "code",
   "execution_count": 19,
   "metadata": {},
   "outputs": [],
   "source": [
    "# set vars for initial normalization\n",
    "mean_px = X_train.mean().astype(np.float32)\n",
    "std_px = X_train.std().astype(np.float32)\n",
    "def norm_input(x): return (x-mean_px)/std_px"
   ]
  },
  {
   "cell_type": "markdown",
   "metadata": {},
   "source": [
    "# VGG Like Model With Batchnorm"
   ]
  },
  {
   "cell_type": "code",
   "execution_count": 20,
   "metadata": {},
   "outputs": [],
   "source": [
    "# build the vgg cnn network\n",
    "vgg_cnn = keras.models.Sequential([\n",
    "    keras.layers.Lambda(norm_input, input_shape=(28,28, 1)),\n",
    "    keras.layers.Conv2D(32, kernel_size=(3, 3), activation='relu', padding='same', input_shape=input_shape),\n",
    "    keras.layers.Conv2D(32, kernel_size=(3, 3), activation='relu', padding='same'),\n",
    "    keras.layers.BatchNormalization(),\n",
    "    keras.layers.Dropout(0.25),\n",
    "    \n",
    "    keras.layers.Conv2D(64, kernel_size=(3, 3), activation='relu', padding='same'),\n",
    "    keras.layers.Conv2D(64, kernel_size=(3, 3), activation='relu', padding='same'),    \n",
    "    keras.layers.MaxPooling2D(pool_size=(2, 2)),\n",
    "    keras.layers.Dropout(0.25),\n",
    "    \n",
    "    keras.layers.Conv2D(128, kernel_size=(3, 3), activation='relu', padding='same'),\n",
    "    keras.layers.Conv2D(128, kernel_size=(3, 3), activation='relu', padding='same'),    \n",
    "    keras.layers.BatchNormalization(),\n",
    "    keras.layers.Dropout(0.25),\n",
    "    \n",
    "    keras.layers.Conv2D(256, kernel_size=(3, 3), activation='relu', padding='same'),\n",
    "    keras.layers.Conv2D(256, kernel_size=(3, 3), activation='relu', padding='same'),\n",
    "    keras.layers.Conv2D(256, kernel_size=(3, 3), activation='relu', padding='same'),\n",
    "    keras.layers.MaxPooling2D(pool_size=(2, 2)),\n",
    "\n",
    "    keras.layers.Flatten(),\n",
    "\n",
    "    keras.layers.Dense(512, activation='relu'),\n",
    "    keras.layers.BatchNormalization(),\n",
    "    keras.layers.Dropout(0.5),\n",
    "    \n",
    "    keras.layers.Dense(512, activation='relu'),\n",
    "    keras.layers.BatchNormalization(),\n",
    "    keras.layers.Dropout(0.5),\n",
    "    \n",
    "    keras.layers.Dense(10, activation='softmax')\n",
    "])"
   ]
  },
  {
   "cell_type": "code",
   "execution_count": 21,
   "metadata": {},
   "outputs": [],
   "source": [
    "# compile\n",
    "vgg_cnn.compile(keras.optimizers.Adam(lr=0.001), loss='sparse_categorical_crossentropy', metrics=['accuracy'])"
   ]
  },
  {
   "cell_type": "code",
   "execution_count": 22,
   "metadata": {},
   "outputs": [
    {
     "name": "stdout",
     "output_type": "stream",
     "text": [
      "Train on 48000 samples, validate on 12000 samples\n",
      "Epoch 1/5\n",
      "48000/48000 [==============================] - 118s - loss: 0.8264 - acc: 0.7251 - val_loss: 3.1062 - val_acc: 0.1832\n",
      "Epoch 2/5\n",
      "48000/48000 [==============================] - 92s - loss: 0.4391 - acc: 0.8404 - val_loss: 2.8057 - val_acc: 0.1071\n",
      "Epoch 3/5\n",
      "48000/48000 [==============================] - 92s - loss: 0.3442 - acc: 0.8749 - val_loss: 2.7813 - val_acc: 0.3833\n",
      "Epoch 4/5\n",
      "48000/48000 [==============================] - 92s - loss: 0.2918 - acc: 0.8949 - val_loss: 0.8415 - val_acc: 0.7006\n",
      "Epoch 5/5\n",
      "48000/48000 [==============================] - 92s - loss: 0.2611 - acc: 0.9038 - val_loss: 0.5994 - val_acc: 0.7937\n"
     ]
    },
    {
     "data": {
      "text/plain": [
       "<tensorflow.python.keras._impl.keras.callbacks.History at 0x7efc9c48f4d0>"
      ]
     },
     "execution_count": 22,
     "metadata": {},
     "output_type": "execute_result"
    }
   ],
   "source": [
    "# start the timer\n",
    "import time\n",
    "t0 = time.time()\n",
    "\n",
    "# train on the initial 10 ephocs\n",
    "# set to 5 epochs here as I'm assuming you are runing this on Domino Trial\n",
    "# which is free-to-you hardware paid for by Domino and we couldn't spin\n",
    "# up the super fast P3 instances :-(\n",
    "# at the time of making this note, we have a g2.2xlarge instance available \n",
    "# for you on Domino Trial under the Domino Hardware Tier called, \"GPU\"\n",
    "# contanct ____ and we'll help you get setup on P2s or P3s\n",
    "vgg_cnn.fit(X_train, y_train,\n",
    "          batch_size=batch_size,\n",
    "          epochs=5,\n",
    "          verbose=1,\n",
    "          validation_data=(X_val, y_val))"
   ]
  },
  {
   "cell_type": "code",
   "execution_count": 23,
   "metadata": {},
   "outputs": [],
   "source": [
    "# change learning rate to go slower on these next 10 epochs\n",
    "vgg_cnn.optimizer.lr = 0.0001"
   ]
  },
  {
   "cell_type": "code",
   "execution_count": 24,
   "metadata": {},
   "outputs": [
    {
     "name": "stdout",
     "output_type": "stream",
     "text": [
      "Train on 48000 samples, validate on 12000 samples\n",
      "Epoch 1/1\n",
      "48000/48000 [==============================] - 92s - loss: 0.2423 - acc: 0.9118 - val_loss: 0.3249 - val_acc: 0.8931\n"
     ]
    },
    {
     "data": {
      "text/plain": [
       "<tensorflow.python.keras._impl.keras.callbacks.History at 0x7efc3557d990>"
      ]
     },
     "execution_count": 24,
     "metadata": {},
     "output_type": "execute_result"
    }
   ],
   "source": [
    "# changed to 1 epoch here as I'm assuming you're running this on Domino Trial \n",
    "# which has G2s not P2s or P3s\n",
    "vgg_cnn.fit(X_train, y_train,\n",
    "          batch_size=batch_size,\n",
    "          epochs=1,\n",
    "          verbose=1,\n",
    "          validation_data=(X_val, y_val))"
   ]
  },
  {
   "cell_type": "code",
   "execution_count": 25,
   "metadata": {},
   "outputs": [
    {
     "name": "stdout",
     "output_type": "stream",
     "text": [
      "('Test loss:', 0.37395326009988783)\n",
      "('Test accuracy:', 0.88380000000000003)\n"
     ]
    }
   ],
   "source": [
    "# see the test loss and accuracy at this point\n",
    "score = vgg_cnn.evaluate(X_test, y_test, verbose=0)\n",
    "print('Test loss:', score[0])\n",
    "print('Test accuracy:', score[1])"
   ]
  },
  {
   "cell_type": "markdown",
   "metadata": {},
   "source": [
    "### Data Augmentation"
   ]
  },
  {
   "cell_type": "code",
   "execution_count": 26,
   "metadata": {
    "scrolled": true
   },
   "outputs": [
    {
     "name": "stdout",
     "output_type": "stream",
     "text": [
      "Epoch 1/1\n",
      "93/93 [==============================] - 91s - loss: 0.3583 - acc: 0.8690 - val_loss: 0.3591 - val_acc: 0.8742\n"
     ]
    },
    {
     "data": {
      "text/plain": [
       "<tensorflow.python.keras._impl.keras.callbacks.History at 0x7efc8c03c210>"
      ]
     },
     "execution_count": 26,
     "metadata": {},
     "output_type": "execute_result"
    }
   ],
   "source": [
    "# augment the data and run 50 more epochs\n",
    "# again, changed to 1 epoch here as I'm assuming you're running this on Domino Trial \n",
    "# which has G2s not P2s or P3s\n",
    "vgg_cnn.fit_generator(batches, steps_per_epoch=48000//batch_size, epochs=1, \n",
    "                    validation_data=val_batches, validation_steps=12000//batch_size, use_multiprocessing=True)"
   ]
  },
  {
   "cell_type": "code",
   "execution_count": 27,
   "metadata": {},
   "outputs": [
    {
     "data": {
      "text/plain": [
       "680.6318597793579"
      ]
     },
     "execution_count": 27,
     "metadata": {},
     "output_type": "execute_result"
    }
   ],
   "source": [
    "# stop the timer\n",
    "t1 = time.time()\n",
    "timeit=t1-t0\n",
    "timeit"
   ]
  },
  {
   "cell_type": "code",
   "execution_count": 28,
   "metadata": {},
   "outputs": [],
   "source": [
    "# write out resutls\n",
    " \n",
    "# make confusion matrix plot\n",
    "def plot_confusion_matrix(cm, target_names, path, title='Confusion matrix', cmap=None, normalize=True):\n",
    "    \"\"\"\n",
    "    given a sklearn confusion matrix (cm), make a nice plot\n",
    " \n",
    "    Arguments\n",
    "    ---------\n",
    "    cm:           confusion matrix from sklearn.metrics.confusion_matrix\n",
    " \n",
    "    target_names: given classification classes such as [0, 1, 2]\n",
    "                  the class names, for example: ['high', 'medium', 'low']\n",
    " \n",
    "    title:        the text to display at the top of the matrix\n",
    " \n",
    "    cmap:         the gradient of the values displayed from matplotlib.pyplot.cm\n",
    "                  see http://matplotlib.org/examples/color/colormaps_reference.html\n",
    "                  plt.get_cmap('jet') or plt.cm.Blues\n",
    " \n",
    "    normalize:    If False, plot the raw numbers\n",
    "                  If True, plot the proportions\n",
    " \n",
    "    Usage\n",
    "    -----\n",
    "    plot_confusion_matrix(cm           = cm,                  # confusion matrix created by\n",
    "                                                              # sklearn.metrics.confusion_matrix\n",
    "                          normalize    = True,                # show proportions\n",
    "                          target_names = y_labels_vals,       # list of names of the classes\n",
    "                          title        = best_estimator_name) # title of graph\n",
    " \n",
    "    Citiation\n",
    "    ---------\n",
    "    http://scikit-learn.org/stable/auto_examples/model_selection/plot_confusion_matrix.html\n",
    " \n",
    "    \"\"\"\n",
    "    import matplotlib.pyplot as plt\n",
    "    import numpy as np\n",
    "    import itertools\n",
    " \n",
    "    accuracy = np.trace(cm) / float(np.sum(cm))\n",
    "    misclass = 1 - accuracy\n",
    " \n",
    "    if cmap is None:\n",
    "        cmap = plt.get_cmap('Blues')\n",
    " \n",
    "    plt.figure(figsize=(8, 6))\n",
    "    plt.imshow(cm, interpolation='nearest', cmap=cmap)\n",
    "    plt.title(title)\n",
    "    plt.colorbar()\n",
    " \n",
    "    if target_names is not None:\n",
    "        tick_marks = np.arange(len(target_names))\n",
    "        plt.xticks(tick_marks, target_names, rotation=45)\n",
    "        plt.yticks(tick_marks, target_names)\n",
    " \n",
    "    if normalize:\n",
    "        cm = cm.astype('float') / cm.sum(axis=1)[:, np.newaxis]\n",
    " \n",
    " \n",
    "    thresh = cm.max() / 1.5 if normalize else cm.max() / 2\n",
    "    for i, j in itertools.product(range(cm.shape[0]), range(cm.shape[1])):\n",
    "        if normalize:\n",
    "            plt.text(j, i, \"{:0.4f}\".format(cm[i, j]),\n",
    "                     horizontalalignment=\"center\",\n",
    "                     color=\"white\" if cm[i, j] > thresh else \"black\")\n",
    "        else:\n",
    "            plt.text(j, i, \"{:,}\".format(cm[i, j]),\n",
    "                     horizontalalignment=\"center\",\n",
    "                     color=\"white\" if cm[i, j] > thresh else \"black\")\n",
    " \n",
    " \n",
    "    plt.tight_layout()\n",
    "    plt.ylabel('True label')\n",
    "    plt.xlabel('Predicted label\\naccuracy={:0.4f}; misclass={:0.4f}'.format(accuracy, misclass))\n",
    "    plt.gcf().subplots_adjust(bottom=0.25)\n",
    "    plt.savefig(path + 'ConfMatx.png', format='png')\n",
    "    plt.show()\n",
    "    plt.gcf().clear()"
   ]
  },
  {
   "cell_type": "code",
   "execution_count": 29,
   "metadata": {},
   "outputs": [
    {
     "name": "stdout",
     "output_type": "stream",
     "text": [
      " 9952/10000 [============================>.] - ETA: 0s"
     ]
    }
   ],
   "source": [
    "# get the final test loss and accuracy\n",
    "test_loss, test_acc = vgg_cnn.evaluate(X_test, y_test)\n",
    "predictions = vgg_cnn.predict(X_test)\n",
    "preds_index = predictions.argmax(axis=1)"
   ]
  },
  {
   "cell_type": "code",
   "execution_count": 30,
   "metadata": {},
   "outputs": [
    {
     "data": {
      "text/plain": [
       "0.89610000000000001"
      ]
     },
     "execution_count": 30,
     "metadata": {},
     "output_type": "execute_result"
    }
   ],
   "source": [
    "test_acc"
   ]
  },
  {
   "cell_type": "code",
   "execution_count": 31,
   "metadata": {},
   "outputs": [
    {
     "data": {
      "text/plain": [
       "680.6318597793579"
      ]
     },
     "execution_count": 31,
     "metadata": {},
     "output_type": "execute_result"
    }
   ],
   "source": [
    "timeit"
   ]
  },
  {
   "cell_type": "code",
   "execution_count": 32,
   "metadata": {},
   "outputs": [
    {
     "data": {
      "image/png": "[encoded data removed]",
      "text/plain": [
       "<Figure size 576x432 with 2 Axes>"
      ]
     },
     "metadata": {},
     "output_type": "display_data"
    },
    {
     "data": {
      "text/plain": [
       "<Figure size 432x288 with 0 Axes>"
      ]
     },
     "metadata": {},
     "output_type": "display_data"
    }
   ],
   "source": [
    "# plot the confusion matrix\n",
    "import sklearn as sk\n",
    "from sklearn import metrics\n",
    "plot_confusion_matrix(cm           = metrics.confusion_matrix(y_test, preds_index), \n",
    "                      normalize    = False,\n",
    "                      path         = \"results/\",\n",
    "                      target_names = class_names,\n",
    "                      title        = \"Confusion Matrix\")"
   ]
  },
  {
   "cell_type": "code",
   "execution_count": 33,
   "metadata": {},
   "outputs": [],
   "source": [
    "# save the time and accuracy to a json file so it is saved & displayed with this run in Domino\n",
    "import json\n",
    "with open('dominostats.json', 'w') as f:\n",
    "    f.write(json.dumps({\"Time\": round(timeit, 3), \"Acc\": round(test_acc, 3)}))"
   ]
  }
 ],
 "metadata": {
  "kernelspec": {
   "display_name": "Python 2",
   "language": "python",
   "name": "python2"
  },
  "language_info": {
   "codemirror_mode": {
    "name": "ipython",
    "version": 2
   },
   "file_extension": ".py",
   "mimetype": "text/x-python",
   "name": "python",
   "nbconvert_exporter": "python",
   "pygments_lexer": "ipython2",
   "version": "2.7.14"
  }
 },
 "nbformat": 4,
 "nbformat_minor": 2
}
